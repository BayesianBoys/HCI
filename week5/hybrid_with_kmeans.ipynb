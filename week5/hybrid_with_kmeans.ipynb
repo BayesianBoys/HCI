{
 "cells": [
  {
   "cell_type": "code",
   "execution_count": null,
   "metadata": {},
   "outputs": [],
   "source": [
    "from __future__ import print_function\n",
    "import keras\n",
    "from keras.datasets import mnist\n",
    "from keras.models import Sequential, Model, Input\n",
    "from keras.layers import Dense, Dropout, Flatten, SpatialDropout2D, SpatialDropout1D, AlphaDropout\n",
    "from keras.layers import Conv2D, MaxPooling2D\n",
    "from keras import backend as K\n",
    "\n",
    "import numpy as np\n",
    "import pandas as pd\n",
    "from sklearn.metrics import accuracy_score\n",
    "from sklearn.decomposition import PCA\n",
    "from sklearn.preprocessing import StandardScaler\n",
    "from sklearn.cluster import KMeans\n",
    "import seaborn as sns\n",
    "\n",
    "import matplotlib.pyplot as plt\n",
    "plt.style.use(\"ggplot\")\n"
   ]
  },
  {
   "cell_type": "code",
   "execution_count": null,
   "metadata": {},
   "outputs": [],
   "source": [
    "# the data, split between train and test sets\n",
    "(x_train, y_train), (x_test, y_test) = mnist.load_data()"
   ]
  },
  {
   "cell_type": "code",
   "execution_count": null,
   "metadata": {},
   "outputs": [],
   "source": [
    "accepted = [0, 1]\n",
    "idx = [i for i, ele in enumerate(y_train) if ele in accepted]\n",
    "x_train = x_train[idx]\n",
    "y_train = y_train[idx]"
   ]
  },
  {
   "cell_type": "code",
   "execution_count": null,
   "metadata": {},
   "outputs": [],
   "source": [
    "x_train_re = x_train.reshape((x_train.shape[0], -1)) #flattens the list"
   ]
  },
  {
   "cell_type": "code",
   "execution_count": null,
   "metadata": {},
   "outputs": [],
   "source": [
    "x_train_re.shape"
   ]
  },
  {
   "cell_type": "code",
   "execution_count": null,
   "metadata": {},
   "outputs": [],
   "source": [
    "PCA_model = PCA(2)"
   ]
  },
  {
   "cell_type": "code",
   "execution_count": null,
   "metadata": {},
   "outputs": [],
   "source": [
    "fitted_PCA = PCA_model.fit(x_train_re).transform(x_train_re)\n",
    "\n",
    "x = np.array([x[0] for x in fitted_PCA])\n",
    "y = np.array([x[1] for x in fitted_PCA])"
   ]
  },
  {
   "cell_type": "code",
   "execution_count": null,
   "metadata": {},
   "outputs": [],
   "source": [
    "#See variance explained by the number of components (here 2). 0.32 is not great but might be enough to handle \"easy\" cases...\n",
    "PCA_model.fit(x_train_re).explained_variance_ratio_\n"
   ]
  },
  {
   "source": [
    "### Kmeans"
   ],
   "cell_type": "markdown",
   "metadata": {}
  },
  {
   "cell_type": "code",
   "execution_count": 27,
   "metadata": {},
   "outputs": [
    {
     "output_type": "execute_result",
     "data": {
      "text/plain": [
       "KMeans(n_clusters=2, random_state=123)"
      ]
     },
     "metadata": {},
     "execution_count": 27
    }
   ],
   "source": [
    "#apply kmeans:\n",
    "kmeans_pca = KMeans(n_clusters=2, init=\"k-means++\", random_state=123)\n",
    "kmeans_pca.fit(fitted_PCA)"
   ]
  },
  {
   "source": [
    "## Downsample"
   ],
   "cell_type": "markdown",
   "metadata": {}
  },
  {
   "cell_type": "code",
   "execution_count": null,
   "metadata": {},
   "outputs": [],
   "source": [
    "x = x[:100]\n",
    "y = y[:100]\n",
    "y_train = y_train[:100]"
   ]
  },
  {
   "cell_type": "code",
   "execution_count": null,
   "metadata": {},
   "outputs": [],
   "source": [
    "df = pd.DataFrame({\"x\": x,\n",
    "                  \"y\": y,\n",
    "                  \"label\": y_train})"
   ]
  },
  {
   "cell_type": "code",
   "execution_count": null,
   "metadata": {},
   "outputs": [],
   "source": [
    "sns.scatterplot(data = df, x = \"x\", y = \"y\", hue = \"label\")"
   ]
  },
  {
   "cell_type": "code",
   "execution_count": null,
   "metadata": {},
   "outputs": [],
   "source": [
    "from ipywidgets import widgets"
   ]
  },
  {
   "cell_type": "code",
   "execution_count": null,
   "metadata": {},
   "outputs": [],
   "source": [
    "import plotly.graph_objects as go\n",
    "\n",
    "import numpy as np\n",
    "np.random.seed(1)\n",
    "\n",
    "origin = widgets.Dropdown(\n",
    "    options=list(df['label'].unique()),\n",
    "    value=0,\n",
    "    description=\"class\",\n",
    ")\n",
    "\n",
    "f = go.FigureWidget([go.Scatter(x=x, y=y, mode='markers')])\n",
    "\n",
    "scatter = f.data[0]\n",
    "colors = ['#a3a7e4'] * len(x)\n",
    "scatter.marker.color = colors\n",
    "scatter.marker.size = [10] * len(x)\n",
    "f.layout.hovermode = 'closest'\n",
    "\n",
    "values = np.empty(len(x))\n",
    "\n",
    "# create our callback function\n",
    "def update_point(trace, points, selector):\n",
    "    c = list(scatter.marker.color)\n",
    "    s = list(scatter.marker.size)\n",
    "    for i in points.point_inds:\n",
    "        if origin.value == 0:\n",
    "            c[i] = '#963484'\n",
    "            s[i] = 20\n",
    "            values[i] = origin.value\n",
    "        else:\n",
    "            c[i] = '#3066BE'\n",
    "            s[i] = 20\n",
    "            values[i] = origin.value\n",
    "        with f.batch_update():\n",
    "            scatter.marker.color = c\n",
    "            scatter.marker.size = s\n",
    "\n",
    "def response(change):\n",
    "    return change\n",
    "\n",
    "scatter.on_click(update_point)\n",
    "origin.observe(response, names = \"value\")\n",
    "\n",
    "widgets.VBox([origin, f])\n",
    "\n",
    "#f"
   ]
  },
  {
   "cell_type": "code",
   "execution_count": null,
   "metadata": {},
   "outputs": [],
   "source": [
    "np.where(values == 1)"
   ]
  },
  {
   "source": [
    "# Let's make stupid work\n",
    "First step in this stupid plan: make all the images we need."
   ],
   "cell_type": "markdown",
   "metadata": {}
  },
  {
   "cell_type": "code",
   "execution_count": null,
   "metadata": {},
   "outputs": [],
   "source": [
    "for i in range(100):\n",
    "    plt.imshow(x_train[i], cmap = \"Greys\");\n",
    "    plt.axis(\"off\")\n",
    "    plt.savefig(f\"images/plot{i}\")"
   ]
  },
  {
   "source": [
    "Second part of the plan; can we actually use the images?"
   ],
   "cell_type": "markdown",
   "metadata": {}
  },
  {
   "cell_type": "code",
   "execution_count": 26,
   "metadata": {},
   "outputs": [],
   "source": [
    "from bokeh.plotting import ColumnDataSource, figure, output_file, show\n",
    "from bokeh.models import Circle\n",
    "from bokeh.models.widgets import Button\n",
    "from bokeh.layouts import layout\n",
    "\n",
    "def save_selected(dataframe, selection):\n",
    "    '''\n",
    "    Long term, this should be a function that could execute,\n",
    "    to make the user save the selection of points they made \n",
    "    in the interactive bokeh plot. Does not currently work. That is,\n",
    "    the save button currently does not map to anything in particular.\n",
    "    '''\n",
    "    data = dataframe.iloc[selection]\n",
    "    def save():\n",
    "        print(f'I got your df right here! {data.shape}')\n",
    "        pass # ??? Provide csv to user\n",
    "    return save\n",
    "\n",
    "output_file(\"toolbar.html\") #bokeh works in html. Here we just tell bokeh that we want the plot to be called \"toolbar.html\"\n",
    "\n",
    "source = ColumnDataSource(data=dict( #the data is given as a dictionary\n",
    "    x=x,\n",
    "    y=y,\n",
    "    desc=[\"Image\" for i in range(len(x))], #adds a description to the different hover options\n",
    "    imgs=[f\"images/plot{i}.png\" for i in range(len(x))], #insert the pictures for each hover\n",
    "    fonts=[\n",
    "        '<i>What images this?</i>' for i in range(len(x))#, can be removed, but I am afraid of going too deep in html. This just displays a message in the hover\n",
    "        #'<pre>pre</pre>',\n",
    "        #'<b>bold</b>',\n",
    "        #'<small>small</small>',\n",
    "        #'<del>del</del>'\n",
    "    ]\n",
    "))\n",
    "\n",
    "TOOLTIPS = \"\"\"\n",
    "    <div>\n",
    "        <div>\n",
    "            <img\n",
    "                src=\"@imgs\" height=\"100\" alt=\"@imgs\" width=\"100\"\n",
    "                style=\"float: left; margin: 0px 15px 15px 0px;\"\n",
    "                border=\"2\"\n",
    "            ></img>\n",
    "        </div>\n",
    "        <div>\n",
    "            <span style=\"font-size: 17px; font-weight: bold;\">@desc</span>\n",
    "            <span style=\"font-size: 15px; color: #966;\">[$index]</span>\n",
    "        </div>\n",
    "        <div>\n",
    "            <span>@fonts{safe}</span>\n",
    "        </div>\n",
    "        <div>\n",
    "            <span style=\"font-size: 15px;\">Location</span>\n",
    "            <span style=\"font-size: 10px; color: #696;\">($x, $y)</span>\n",
    "        </div>\n",
    "    </div>\n",
    "\"\"\" #html code for displaying on hover. Touch only if you are a daredevil\n",
    "\n",
    "p = figure(plot_width=1200, plot_height=800, tooltips=TOOLTIPS,\n",
    "           title=\"PCA classification\", tools = \"tap, box_select, lasso_select\") #specify how big the plot is, the title, the hover option, and which tools are allowed\n",
    "\n",
    "renderer = p.circle('x', 'y', size=20, source=source) #specify the renderer for the figure (the dots)\n",
    "\n",
    "selected_circle = Circle(fill_alpha=1, fill_color=\"firebrick\", line_color=None) #specify a mode for the circles when selected\n",
    "nonselected_circle = Circle(fill_alpha=0.2, fill_color=\"blue\", line_color=\"firebrick\") #--//-- when unselected\n",
    "\n",
    "renderer.selection_glyph = selected_circle #tell the renderer what happens to selected\n",
    "renderer.nonselection_glyph = nonselected_circle # --//-- to unselected\n",
    "\n",
    "p.toolbar.autohide = True #make the toolbar go away when the mouse is not moving\n",
    "\n",
    "some_button = Button(label = \"Save my selection\") #include button for potential save selection\n",
    "#some_button.on_click()\n",
    "page = layout([[some_button], [p]]) #specify layout of the page with button first and then the plot\n",
    "\n",
    "show(page) #display the page"
   ]
  },
  {
   "cell_type": "code",
   "execution_count": null,
   "metadata": {},
   "outputs": [],
   "source": []
  }
 ],
 "metadata": {
  "kernelspec": {
   "name": "python3",
   "display_name": "Python 3.8.5 64-bit ('CM': conda)",
   "metadata": {
    "interpreter": {
     "hash": "5698216558bfa99e9d0f38da36571f7d9dccffc67e29b4443301a5ed3d75bbb7"
    }
   }
  },
  "language_info": {
   "codemirror_mode": {
    "name": "ipython",
    "version": 3
   },
   "file_extension": ".py",
   "mimetype": "text/x-python",
   "name": "python",
   "nbconvert_exporter": "python",
   "pygments_lexer": "ipython3",
   "version": "3.8.5-final"
  }
 },
 "nbformat": 4,
 "nbformat_minor": 4
}