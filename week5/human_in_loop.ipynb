{
 "cells": [
  {
   "cell_type": "code",
   "execution_count": 1,
   "metadata": {},
   "outputs": [],
   "source": [
    "from __future__ import print_function\n",
    "import keras\n",
    "from keras.datasets import mnist\n",
    "from keras.models import Sequential, Model, Input\n",
    "from keras.layers import Dense, Dropout, Flatten, SpatialDropout2D, SpatialDropout1D, AlphaDropout\n",
    "from keras.layers import Conv2D, MaxPooling2D\n",
    "from keras import backend as K\n",
    "\n",
    "import numpy as np\n",
    "import pandas as pd\n",
    "from sklearn.metrics import accuracy_score\n",
    "\n",
    "import matplotlib.pyplot as plt\n",
    "plt.style.use(\"ggplot\")\n",
    "\n"
   ]
  },
  {
   "cell_type": "markdown",
   "metadata": {},
   "source": [
    "If you get an error in the above cell, you may need to install some of these packages on your computer."
   ]
  },
  {
   "cell_type": "code",
   "execution_count": 2,
   "metadata": {},
   "outputs": [],
   "source": [
    "batch_size = 128\n",
    "num_classes = 10\n",
    "epochs = 12\n",
    "\n",
    "# input image dimensions (Of the MNIST images)\n",
    "img_rows, img_cols = 28, 28"
   ]
  },
  {
   "cell_type": "markdown",
   "metadata": {},
   "source": [
    "Here we load the MNIST dataset. This dataset includes pictures of 70000 handwritten digits. It is a clasic dataset to use, when testing a neural network build for imgage classification. The data is divided into a testing and a training set. "
   ]
  },
  {
   "cell_type": "code",
   "execution_count": 3,
   "metadata": {},
   "outputs": [],
   "source": [
    "# the data, split between train and test sets\n",
    "(x_train, y_train), (x_test, y_test) = mnist.load_data()"
   ]
  },
  {
   "cell_type": "code",
   "execution_count": 4,
   "metadata": {},
   "outputs": [],
   "source": [
    "if K.image_data_format() == 'channels_first':\n",
    "    x_train = x_train.reshape(x_train.shape[0], 1, img_rows, img_cols)\n",
    "    x_test = x_test.reshape(x_test.shape[0], 1, img_rows, img_cols)\n",
    "    input_shape = (1, img_rows, img_cols)\n",
    "else:\n",
    "    x_train = x_train.reshape(x_train.shape[0], img_rows, img_cols, 1)\n",
    "    x_test = x_test.reshape(x_test.shape[0], img_rows, img_cols, 1)\n",
    "    input_shape = (img_rows, img_cols, 1)"
   ]
  },
  {
   "cell_type": "markdown",
   "metadata": {},
   "source": [
    "Let's check the data. How many datapoints in each catagory? "
   ]
  },
  {
   "cell_type": "code",
   "execution_count": 5,
   "metadata": {},
   "outputs": [
    {
     "name": "stdout",
     "output_type": "stream",
     "text": [
      "x_train shape: (60000, 28, 28, 1)\n",
      "60000 train samples\n",
      "10000 test samples\n"
     ]
    }
   ],
   "source": [
    "x_train = x_train.astype('float32')\n",
    "x_test = x_test.astype('float32')\n",
    "x_train /= 255\n",
    "x_test /= 255\n",
    "print('x_train shape:', x_train.shape)\n",
    "print(x_train.shape[0], 'train samples')\n",
    "print(x_test.shape[0], 'test samples')"
   ]
  },
  {
   "cell_type": "code",
   "execution_count": null,
   "metadata": {},
   "outputs": [],
   "source": [
    "# convert class vectors to binary class matrices\n",
    "y_train = keras.utils.to_categorical(y_train, num_classes)\n",
    "y_test = keras.utils.to_categorical(y_test, num_classes)"
   ]
  },
  {
   "cell_type": "markdown",
   "metadata": {},
   "source": [
    "The below Neural Network model is set up to run with or without the dropout layer. We can use the dropout to calculate variance and probability of each classification later. If you want to employ a different way of estimating the confidence per classification, feel free to employ that instead. You are also welcome to improve this network. "
   ]
  },
  {
   "cell_type": "code",
   "execution_count": 7,
   "metadata": {},
   "outputs": [],
   "source": [
    "def get_dropout(input_tensor, p=0.5, mc=False):\n",
    "    if mc:\n",
    "        return Dropout(p)(input_tensor, training=True)\n",
    "    else:\n",
    "        return Dropout(p)(input_tensor)\n",
    "\n",
    "\n",
    "def get_model(mc=False, act=\"relu\"):\n",
    "    inp = Input(input_shape)\n",
    "    x = Conv2D(32, kernel_size=(3, 3), activation=act)(inp)\n",
    "    x = Conv2D(64, kernel_size=(3, 3), activation=act)(x)\n",
    "    x = MaxPooling2D(pool_size=(2, 2))(x)\n",
    "    x = get_dropout(x, p=0.25, mc=mc)\n",
    "    x = Flatten()(x)\n",
    "    x = Dense(128, activation=act)(x)\n",
    "    x = get_dropout(x, p=0.5, mc=mc)\n",
    "    out = Dense(num_classes, activation='softmax')(x)\n",
    "    \n",
    "    model = Model(inputs=inp, outputs=out)\n",
    "\n",
    "    model.compile(loss=keras.losses.categorical_crossentropy,\n",
    "                  optimizer=keras.optimizers.Adadelta(),\n",
    "                  metrics=['accuracy'])\n",
    "    return model"
   ]
  },
  {
   "cell_type": "markdown",
   "metadata": {},
   "source": [
    "Here we assign mc_model to the the dropout model. "
   ]
  },
  {
   "cell_type": "code",
   "execution_count": 10,
   "metadata": {},
   "outputs": [],
   "source": [
    "mc_model = get_model(mc=True, act=\"relu\")"
   ]
  },
  {
   "cell_type": "markdown",
   "metadata": {},
   "source": [
    "Run the model for 10 epochs. "
   ]
  },
  {
   "cell_type": "code",
   "execution_count": 41,
   "metadata": {},
   "outputs": [
    {
     "name": "stdout",
     "output_type": "stream",
     "text": [
      "Epoch 1/10\n",
      "469/469 [==============================] - 111s 236ms/step - loss: 2.1341 - accuracy: 0.3899 - val_loss: 2.0786 - val_accuracy: 0.4418\n",
      "Epoch 2/10\n",
      "469/469 [==============================] - 116s 247ms/step - loss: 2.0196 - accuracy: 0.4778 - val_loss: 1.9446 - val_accuracy: 0.5169\n",
      "Epoch 3/10\n",
      "469/469 [==============================] - 118s 253ms/step - loss: 1.8724 - accuracy: 0.5355 - val_loss: 1.7796 - val_accuracy: 0.5689\n",
      "Epoch 4/10\n",
      "469/469 [==============================] - 120s 256ms/step - loss: 1.6964 - accuracy: 0.5817 - val_loss: 1.5929 - val_accuracy: 0.6105\n",
      "Epoch 5/10\n",
      "469/469 [==============================] - 116s 248ms/step - loss: 1.5174 - accuracy: 0.6128 - val_loss: 1.4147 - val_accuracy: 0.6375\n",
      "Epoch 6/10\n",
      "469/469 [==============================] - 115s 246ms/step - loss: 1.3483 - accuracy: 0.6428 - val_loss: 1.2534 - val_accuracy: 0.6671\n",
      "Epoch 7/10\n",
      "469/469 [==============================] - 115s 246ms/step - loss: 1.2070 - accuracy: 0.6662 - val_loss: 1.1354 - val_accuracy: 0.6833\n",
      "Epoch 8/10\n",
      "469/469 [==============================] - 109s 233ms/step - loss: 1.1016 - accuracy: 0.6864 - val_loss: 1.0325 - val_accuracy: 0.7030\n",
      "Epoch 9/10\n",
      "469/469 [==============================] - 108s 231ms/step - loss: 1.0078 - accuracy: 0.7077 - val_loss: 0.9533 - val_accuracy: 0.7185\n",
      "Epoch 10/10\n",
      "469/469 [==============================] - 102s 217ms/step - loss: 0.9393 - accuracy: 0.7218 - val_loss: 0.8931 - val_accuracy: 0.7317\n"
     ]
    }
   ],
   "source": [
    "h_mc = mc_model.fit(x_train, y_train,\n",
    "                    batch_size=batch_size,\n",
    "                    epochs=10,\n",
    "                    verbose=1,\n",
    "                    validation_data=(x_test, y_test))"
   ]
  },
  {
   "cell_type": "markdown",
   "metadata": {},
   "source": [
    "Here we use the dropout layer to calculate the predictions for each classification. This takes a while. You can set it to 500 if you are an impatiant person. "
   ]
  },
  {
   "cell_type": "code",
   "execution_count": 114,
   "metadata": {},
   "outputs": [
    {
     "name": "stderr",
     "output_type": "stream",
     "text": [
      "100%|██████████| 1000/1000 [1:16:22<00:00,  4.58s/it]\n"
     ]
    }
   ],
   "source": [
    "import tqdm\n",
    "\n",
    "mc_predictions = []\n",
    "for i in tqdm.tqdm(range(1000)):\n",
    "    y_p = mc_model.predict(x_test, batch_size=1000)\n",
    "    mc_predictions.append(y_p)"
   ]
  },
  {
   "cell_type": "markdown",
   "metadata": {},
   "source": [
    "Prediction variance "
   ]
  },
  {
   "cell_type": "code",
   "execution_count": 43,
   "metadata": {},
   "outputs": [],
   "source": [
    "max_vars = []\n",
    "for idx in range(len(mc_predictions)):\n",
    "    px = np.array([p[idx] for p in mc_predictions])\n",
    "    max_vars.append(px.std(axis=0)[px.mean(axis=0).argmax()])"
   ]
  },
  {
   "cell_type": "markdown",
   "metadata": {},
   "source": [
    "Print the 100 classifications with the most variance "
   ]
  },
  {
   "cell_type": "code",
   "execution_count": 44,
   "metadata": {},
   "outputs": [
    {
     "data": {
      "text/plain": [
       "array([200, 186, 132,  48, 450, 222, 461, 201, 233, 172, 390, 449, 353,\n",
       "       133, 120, 437, 315,  93, 347,  99, 162,  95, 400, 395, 412, 171,\n",
       "       462, 469, 250, 293, 312, 128, 308, 214, 465, 356,  51, 343,  68,\n",
       "       199, 209, 382, 351, 126, 291,  64,  58, 252, 371, 273, 380, 352,\n",
       "       492, 326, 226, 328,  34, 179, 127,   3, 359, 451, 292, 259,  42,\n",
       "       212,  28, 280, 281, 106, 220, 464, 405,   1, 453, 206, 197, 271,\n",
       "       364,  75, 474, 102, 336, 248, 146, 221, 311, 493, 447, 232,   9,\n",
       "       435, 495, 402, 446, 275, 277, 318, 362,  72], dtype=int64)"
      ]
     },
     "execution_count": 44,
     "metadata": {},
     "output_type": "execute_result"
    }
   ],
   "source": [
    "(-np.array(max_vars)).argsort()[:100]"
   ]
  },
  {
   "cell_type": "markdown",
   "metadata": {},
   "source": [
    "Here you can inspect the different classifications. Insert the numbers from the print above into the variable idx one at the time. Can you classify better in these insecure cases? "
   ]
  },
  {
   "cell_type": "code",
   "execution_count": 71,
   "metadata": {},
   "outputs": [
    {
     "data": {
      "text/plain": [
       "<matplotlib.image.AxesImage at 0x254223b1d60>"
      ]
     },
     "execution_count": 71,
     "metadata": {},
     "output_type": "execute_result"
    },
    {
     "data": {
      "image/png": "[encoded data removed]",
      "text/plain": [
       "<Figure size 432x288 with 1 Axes>"
      ]
     },
     "metadata": {},
     "output_type": "display_data"
    }
   ],
   "source": [
    "idx = 72\n",
    "plt.imshow(x_test[idx][:,:,0])"
   ]
  },
  {
   "cell_type": "markdown",
   "metadata": {},
   "source": [
    "The posterior mean is what the neural network estimated. True label is the absolute truth. The correct classification. "
   ]
  },
  {
   "cell_type": "code",
   "execution_count": 70,
   "metadata": {},
   "outputs": [
    {
     "name": "stdout",
     "output_type": "stream",
     "text": [
      "posterior mean: 2\n",
      "true label: 2\n",
      "\n",
      "class: 0; probability: 14.3%; variance: 11.29% \n",
      "class: 1; probability: 0.6%; variance: 0.78% \n",
      "class: 2; probability: 49.3%; variance: 19.26% \n",
      "class: 3; probability: 25.1%; variance: 14.71% \n",
      "class: 4; probability: 0.8%; variance: 1.29% \n",
      "class: 5; probability: 1.6%; variance: 2.40% \n",
      "class: 6; probability: 1.5%; variance: 1.98% \n",
      "class: 7; probability: 1.6%; variance: 2.04% \n",
      "class: 8; probability: 5.0%; variance: 5.10% \n",
      "class: 9; probability: 0.2%; variance: 0.27% \n"
     ]
    },
    {
     "data": {
      "image/png": "[encoded data removed]",
      "text/plain": [
       "<Figure size 432x288 with 1 Axes>"
      ]
     },
     "metadata": {},
     "output_type": "display_data"
    }
   ],
   "source": [
    "p0 = np.array([p[idx] for p in mc_predictions])\n",
    "print(\"posterior mean: {}\".format(p0.mean(axis=0).argmax()))\n",
    "print(\"true label: {}\".format(y_test[idx].argmax()))\n",
    "print()\n",
    "\n",
    "# probability + variance\n",
    "for i, (prob, var) in enumerate(zip(p0.mean(axis=0), p0.std(axis=0))):\n",
    "    print(\"class: {}; probability: {:.1%}; variance: {:.2%} \".format(i, prob, var))\n",
    "    \n",
    "#Plot the probability \n",
    "x, y = list(range(len(p0.mean(axis=0)))), p0.mean(axis=0)\n",
    "plt.plot(x, y);"
   ]
  },
  {
   "cell_type": "markdown",
   "metadata": {},
   "source": [
    "Here we do the same as above, but for the probability instead of the variance. This is baysian statistics, so probability refers to the predictive mean. "
   ]
  },
  {
   "cell_type": "code",
   "execution_count": 55,
   "metadata": {},
   "outputs": [],
   "source": [
    "max_means = []\n",
    "preds = []\n",
    "for idx in range(len(mc_predictions)):\n",
    "    px = np.array([p[idx] for p in mc_predictions])\n",
    "    preds.append(px.mean(axis=0).argmax())\n",
    "    max_means.append(px.mean(axis=0).max())"
   ]
  },
  {
   "cell_type": "code",
   "execution_count": 61,
   "metadata": {},
   "outputs": [
    {
     "data": {
      "text/plain": [
       "array([195, 191, 151,  96, 483, 456, 443, 346, 497, 211, 325, 478, 167,\n",
       "        59,  53, 324, 268, 227, 241,   8, 498, 149,  78, 486,  97, 406,\n",
       "       495, 193,  18,  92, 307,  46, 317,  11, 321, 301,  73,  38, 341,\n",
       "       218, 184,  62, 420,  66,  33, 115, 289, 175, 429, 119, 433, 114,\n",
       "       243, 182, 189, 319, 282, 266, 432, 159, 213, 403, 153, 144,  61,\n",
       "       411, 110, 344, 340, 468,  84,  65, 338, 358, 457, 264, 394, 431,\n",
       "       300, 316, 240, 299, 354, 277, 165,  45, 104, 397, 290,  63, 435,\n",
       "       274, 304, 116, 367, 139, 244, 177,  15, 421], dtype=int64)"
      ]
     },
     "execution_count": 61,
     "metadata": {},
     "output_type": "execute_result"
    }
   ],
   "source": [
    "(np.array(max_means)).argsort()[:100]"
   ]
  },
  {
   "cell_type": "code",
   "execution_count": 56,
   "metadata": {},
   "outputs": [
    {
     "data": {
      "text/plain": [
       "<matplotlib.image.AxesImage at 0x25412c73040>"
      ]
     },
     "execution_count": 56,
     "metadata": {},
     "output_type": "execute_result"
    },
    {
     "data": {
      "image/png": "[encoded data removed]",
      "text/plain": [
       "<Figure size 432x288 with 1 Axes>"
      ]
     },
     "metadata": {},
     "output_type": "display_data"
    }
   ],
   "source": [
    "idx = 421\n",
    "plt.imshow(x_test[idx][:,:,0])"
   ]
  },
  {
   "cell_type": "code",
   "execution_count": 57,
   "metadata": {},
   "outputs": [
    {
     "name": "stdout",
     "output_type": "stream",
     "text": [
      "posterior mean: 2\n",
      "true label: 2\n",
      "\n",
      "class: 0; probability: 28.7%; variance: 16.80% \n",
      "class: 1; probability: 0.9%; variance: 1.24% \n",
      "class: 2; probability: 33.9%; variance: 17.46% \n",
      "class: 3; probability: 11.6%; variance: 8.91% \n",
      "class: 4; probability: 0.9%; variance: 1.62% \n",
      "class: 5; probability: 7.5%; variance: 7.31% \n",
      "class: 6; probability: 2.5%; variance: 2.65% \n",
      "class: 7; probability: 2.3%; variance: 2.25% \n",
      "class: 8; probability: 11.4%; variance: 9.25% \n",
      "class: 9; probability: 0.2%; variance: 0.27% \n"
     ]
    },
    {
     "data": {
      "image/png": "[encoded data removed]",
      "text/plain": [
       "<Figure size 432x288 with 1 Axes>"
      ]
     },
     "metadata": {},
     "output_type": "display_data"
    }
   ],
   "source": [
    "p0 = np.array([p[idx] for p in mc_predictions])\n",
    "print(\"posterior mean: {}\".format(p0.mean(axis=0).argmax()))\n",
    "print(\"true label: {}\".format(y_test[idx].argmax()))\n",
    "print()\n",
    "# probability + variance\n",
    "for i, (prob, var) in enumerate(zip(p0.mean(axis=0), p0.std(axis=0))):\n",
    "    print(\"class: {}; probability: {:.1%}; variance: {:.2%} \".format(i, prob, var))\n",
    "    \n",
    "#Plot the probability \n",
    "x, y = list(range(len(p0.mean(axis=0)))), p0.mean(axis=0)\n",
    "plt.plot(x, y);"
   ]
  },
  {
   "cell_type": "markdown",
   "metadata": {},
   "source": [
    "When you present the images to the human assistant, it is important that you do not also display the true label, as in the examples above. \n",
    "\n",
    "Part of the task is also to check if the human assistant improves the model. How can we calculate that? Here we can calculate how accurate the model is: "
   ]
  },
  {
   "cell_type": "code",
   "execution_count": 110,
   "metadata": {},
   "outputs": [
    {
     "name": "stdout",
     "output_type": "stream",
     "text": [
      "MC accuracy: 73.6%\n",
      "368.1625000000001\n",
      "500\n"
     ]
    }
   ],
   "source": [
    "accs = []\n",
    "for y_p in mc_predictions:\n",
    "    acc = accuracy_score(y_test.argmax(axis=1), y_p.argmax(axis=1))\n",
    "    accs.append(acc)\n",
    "print(\"MC accuracy: {:.1%}\".format(sum(accs)/len(accs)))\n",
    "print(\"Number of correct estimations:\".format((sum(accs)))\n",
    "\n",
    "print(sum(accs)) #Number of correct guessess (Does anyone know why this is a decimal? strange) \n",
    "print(accs) #Not out of 10.000, but 1000, that was the number we chose in tqdm above. "
   ]
  },
  {
   "cell_type": "code",
   "execution_count": 113,
   "metadata": {},
   "outputs": [
    {
     "data": {
      "text/plain": [
       "0.736"
      ]
     },
     "execution_count": 113,
     "metadata": {},
     "output_type": "execute_result"
    }
   ],
   "source": []
  }
 ],
 "metadata": {
  "kernelspec": {
   "display_name": "Python 3",
   "language": "python",
   "name": "python3"
  },
  "language_info": {
   "codemirror_mode": {
    "name": "ipython",
    "version": 3
   },
   "file_extension": ".py",
   "mimetype": "text/x-python",
   "name": "python",
   "nbconvert_exporter": "python",
   "pygments_lexer": "ipython3",
   "version": "3.8.5"
  }
 },
 "nbformat": 4,
 "nbformat_minor": 4
}
