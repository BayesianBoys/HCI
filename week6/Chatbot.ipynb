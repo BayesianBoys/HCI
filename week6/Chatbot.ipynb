{
 "cells": [
  {
   "cell_type": "code",
   "execution_count": 1,
   "metadata": {},
   "outputs": [],
   "source": [
    "import pyaudio #If you have issues with this, see the powerpoint for help \n",
    "import pyttsx3\n",
    "import speech_recognition as sr\n",
    "import os"
   ]
  },
  {
   "cell_type": "code",
   "execution_count": 2,
   "metadata": {},
   "outputs": [],
   "source": [
    "# Initializing microphone and speech recognition system\n",
    "mic = sr.Microphone()\n"
   ]
  },
  {
   "cell_type": "code",
   "execution_count": 3,
   "metadata": {},
   "outputs": [
    {
     "output_type": "stream",
     "name": "stdout",
     "text": [
      "[<pyttsx3.voice.Voice object at 0x000001A783ABC730>, <pyttsx3.voice.Voice object at 0x000001A793125820>]\n"
     ]
    }
   ],
   "source": [
    "# Using the simplest voice engine we can to do text to speech\n",
    "engine = pyttsx3.init()\n",
    "voices = engine.getProperty('voices') # if you get a weird accent, try printing this variable and choose another voice\n",
    "engine.setProperty('voice', voices[0].id) # a different voice id might be necessary on your system\n",
    "\n",
    "print(voices)"
   ]
  },
  {
   "cell_type": "code",
   "execution_count": 4,
   "metadata": {},
   "outputs": [
    {
     "output_type": "stream",
     "name": "stdout",
     "text": [
      "['Preheat the oven to 180 degrees ', 'Combine the egg with the brown sugar and the cane sugar in a mixing bowl ', 'Add the the flour, chocolate, vanilla, baking powder, and butter to the mixture ', 'Stir to combine the ingredients ', 'Let the dough rest in the fridge till tomorrow... nah, no one can wait that long for cookies ', 'Devide the dough into golfball sized spheres and place them on baking paper in a cooking tray ', 'Cook them in the oven for 10-14 minutes ', 'Eat cookies, mmmmm, very tasty right? ', '']\n['150 grams of butter ', '100 grams of brown sugar ', '100 grams of cane sugar', '200 grams of flour', '100 grams of dark chocolate', '100 grams of milk chocolate', '100 grams of white chocolate. Yes. You want that much chocolate. ', '1 egg', '10 grams of vanilla  ', '1 teaspoon of baking powder']\n"
     ]
    }
   ],
   "source": [
    "#Check the files can be opened: \n",
    "\n",
    "ing_list = \"\"\"150 grams of butter \n",
    "100 grams of brown sugar \n",
    "100 grams of cane sugar\n",
    "200 grams of flour\n",
    "100 grams of dark chocolate\n",
    "100 grams of milk chocolate\n",
    "100 grams of white chocolate. Yes. You want that much chocolate. \n",
    "1 egg\n",
    "10 grams of vanilla  \n",
    "1 teaspoon of baking powder\"\"\"\n",
    "\n",
    "ing_list = ing_list.split(\"\\n\")\n",
    "inst_list = \"\"\"Preheat the oven to 180 degrees \n",
    "Combine the egg with the brown sugar and the cane sugar in a mixing bowl \n",
    "Add the the flour, chocolate, vanilla, baking powder, and butter to the mixture \n",
    "Stir to combine the ingredients \n",
    "Let the dough rest in the fridge till tomorrow... nah, no one can wait that long for cookies \n",
    "Devide the dough into golfball sized spheres and place them on baking paper in a cooking tray \n",
    "Cook them in the oven for 10-14 minutes \n",
    "Eat cookies, mmmmm, very tasty right? \n",
    "\"\"\"\n",
    "inst_list = inst_list.split(\"\\n\")\n",
    "\n",
    "cake_list = '''First you take some butter\n",
    "Then you take some flour\n",
    "You add some eggs aswell\n",
    "stir it all together\n",
    "bake\n",
    "congratulations\n",
    "'''\n",
    "cake_list = cake_list.split(\"\\n\")\n",
    "\n",
    "print(inst_list)\n",
    "print(ing_list)\n"
   ]
  },
  {
   "cell_type": "code",
   "execution_count": 6,
   "metadata": {},
   "outputs": [
    {
     "output_type": "stream",
     "name": "stdout",
     "text": [
      "Hi. My name is Mary Botty but you can call me Mary.\n",
      "If you want to hear more about me, say intro\n",
      "I am listening now\n",
      "processing...\n",
      "you said: cake\n",
      "That is the best list.\n",
      "I am listening now\n",
      "processing...\n",
      "you said: next\n",
      "That is the best list.\n",
      "I am listening now\n",
      "processing...\n",
      "Sorry! Something went wrong with your mouth. Please, try to be intelligible. \n",
      "I am listening now\n",
      "processing...\n",
      "you said: stop\n",
      "Sorry! Something went wrong with your mouth. Please, try to be intelligible. \n"
     ]
    }
   ],
   "source": [
    "\n",
    "# Second: Initialize dynamic variables\n",
    "active_list = ing_list # we start by iterating through the ingredient list\n",
    "i = 0 # the counter we use to read through our list\n",
    "textInput = \"nothing\" # we initialise the input for the loop to work\n",
    "\n",
    "engine.say(\"Hi. My name is Mary Botty but you can call me Mary.\")\n",
    "print(\"Hi. My name is Mary Botty but you can call me Mary.\")\n",
    "engine.say(\"If you want to hear more about me, say intro\")\n",
    "print(\"If you want to hear more about me, say intro\")\n",
    "\n",
    "# All interactions happen here\n",
    "while textInput != \"stop\":\n",
    "\n",
    "    # We load the speech to text model\n",
    "    r = sr.Recognizer()\n",
    "    # check for background noise and adjust sensitivity accordingly\n",
    "    with mic as source:\n",
    "        audio = r.adjust_for_ambient_noise(source)\n",
    "\n",
    "    # Listen for user input\n",
    "    print(\"I am listening now\")\n",
    "    engine.say(\"I am listening now\")\n",
    "    engine.runAndWait()\n",
    "    with mic as source:\n",
    "        audio = r.listen(source) # save the mic input into the \"audio\" variable\n",
    "    print(\"processing...\")\n",
    "\n",
    "    try:\n",
    "        # speech to text: transform the audio recorded from the mic into text\n",
    "        textInput = r.recognize_google(audio)\n",
    "        print(\"you said: \" + textInput)\n",
    "        #print(type(textInput))\n",
    "\n",
    "        if textInput == \"ingredients\" or textInput == \"ingredient\":\n",
    "            active_list = ing_list\n",
    "            i = 0\n",
    "            response = \"I will now read ingredients list, say next to start\"\n",
    "        \n",
    "        elif textInput == \"cake\" or textInput == \"cakes\":\n",
    "            active_list = cake_list\n",
    "            i = 0\n",
    "            response = \"That is the best list.\"\n",
    "\n",
    "        elif textInput == \"intro\" or \"intros\":\n",
    "            engine.say(\"Oh, you want to hear more about me? Well, you asked for it...\")\n",
    "            engine.say(\"I am your new culinary assistant.\"\"Right now, I am not very smart, but hopefully, you will make me more helpful,\" \"as well as more natural to interact with.\")\n",
    "\n",
    "\n",
    "        elif textInput == \"instructions\" or textInput == \"instruction\":\n",
    "            active_list = inst_list\n",
    "            i = 0\n",
    "            response = \"I will now read the instructions list, say next to start\"\n",
    "        \n",
    "        elif \"repeat\" in textInput:\n",
    "            response = active_list[i-1]\n",
    "\n",
    "        elif \"previous\" in textInput:\n",
    "            response = active_list[i-2]\n",
    "\n",
    "        elif \"next\" in textInput:\n",
    "            response = active_list[i]\n",
    "            i += 1\n",
    "\n",
    "\n",
    "        elif textInput == \"stop\":\n",
    "            response = \"good bye\"\n",
    "\n",
    "        else:\n",
    "            response = \"I am sorry, I am not programmed to understand this. \" \\\n",
    "                       \"Can you repeat please?\"\n",
    "\n",
    "    # API was unreachable or unresponsive:\n",
    "    except sr.RequestError:\n",
    "        response = \"API unavailable\"\n",
    "    # if the speech was unintelligible:\n",
    "    except sr.UnknownValueError:\n",
    "        response = \"Sorry! Something went wrong with your mouth. \" \\\n",
    "                   \"Please, try to be intelligible. \"\n",
    "    # if you arrive at the end of the list:\n",
    "    except IndexError:\n",
    "        response = \"There is nothing left in this list. \" \\\n",
    "                   \"You can ask me for the list of Ingredients by saying Ingredients. \" \\\n",
    "                    \"You can ask me for the list of instructions by saying Instructions. \"\n",
    "\n",
    "    print(response)\n",
    "    engine.say(response)\n",
    "    engine.runAndWait()"
   ]
  },
  {
   "source": [
    "# sPYtify"
   ],
   "cell_type": "markdown",
   "metadata": {}
  },
  {
   "cell_type": "code",
   "execution_count": null,
   "metadata": {},
   "outputs": [],
   "source": []
  }
 ],
 "metadata": {
  "kernelspec": {
   "display_name": "Python 3",
   "language": "python",
   "name": "python3"
  },
  "language_info": {
   "codemirror_mode": {
    "name": "ipython",
    "version": 3
   },
   "file_extension": ".py",
   "mimetype": "text/x-python",
   "name": "python",
   "nbconvert_exporter": "python",
   "pygments_lexer": "ipython3",
   "version": "3.8.5-final"
  }
 },
 "nbformat": 4,
 "nbformat_minor": 4
}