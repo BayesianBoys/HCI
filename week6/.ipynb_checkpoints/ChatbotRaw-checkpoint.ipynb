{
 "cells": [
  {
   "cell_type": "code",
   "execution_count": 1,
   "metadata": {},
   "outputs": [
    {
     "ename": "ModuleNotFoundError",
     "evalue": "No module named 'pyaudio'",
     "output_type": "error",
     "traceback": [
      "\u001b[1;31m---------------------------------------------------------------------------\u001b[0m",
      "\u001b[1;31mModuleNotFoundError\u001b[0m                       Traceback (most recent call last)",
      "\u001b[1;32m<ipython-input-1-c5ad82719965>\u001b[0m in \u001b[0;36m<module>\u001b[1;34m\u001b[0m\n\u001b[1;32m----> 1\u001b[1;33m \u001b[1;32mimport\u001b[0m \u001b[0mpyaudio\u001b[0m \u001b[1;31m#If you have issues with this, see the powerpoint for help\u001b[0m\u001b[1;33m\u001b[0m\u001b[1;33m\u001b[0m\u001b[0m\n\u001b[0m\u001b[0;32m      2\u001b[0m \u001b[1;32mimport\u001b[0m \u001b[0mpyttsx3\u001b[0m\u001b[1;33m\u001b[0m\u001b[1;33m\u001b[0m\u001b[0m\n\u001b[0;32m      3\u001b[0m \u001b[1;32mimport\u001b[0m \u001b[0mspeech_recognition\u001b[0m \u001b[1;32mas\u001b[0m \u001b[0msr\u001b[0m\u001b[1;33m\u001b[0m\u001b[1;33m\u001b[0m\u001b[0m\n\u001b[0;32m      4\u001b[0m \u001b[1;32mimport\u001b[0m \u001b[0mos\u001b[0m\u001b[1;33m\u001b[0m\u001b[1;33m\u001b[0m\u001b[0m\n",
      "\u001b[1;31mModuleNotFoundError\u001b[0m: No module named 'pyaudio'"
     ]
    }
   ],
   "source": [
    "import pyaudio #If you have issues with this, see the powerpoint for help \n",
    "import pyttsx3\n",
    "import speech_recognition as sr\n",
    "import os"
   ]
  },
  {
   "cell_type": "code",
   "execution_count": 31,
   "metadata": {},
   "outputs": [],
   "source": [
    "# Initializing microphone and speech recognition system\n",
    "mic = sr.Microphone()\n"
   ]
  },
  {
   "cell_type": "code",
   "execution_count": 72,
   "metadata": {},
   "outputs": [
    {
     "name": "stdout",
     "output_type": "stream",
     "text": [
      "[<pyttsx3.voice.Voice object at 0x000002788A873430>, <pyttsx3.voice.Voice object at 0x000002788E587850>]\n"
     ]
    }
   ],
   "source": [
    "# Using the simplest voice engine we can to do text to speech\n",
    "engine = pyttsx3.init()\n",
    "voices = engine.getProperty('voices') # if you get a weird accent, try printing this variable and choose another voice\n",
    "engine.setProperty('voice', voices[1].id) # a different voice id might be necessary on your system\n",
    "\n",
    "print(voices)"
   ]
  },
  {
   "cell_type": "code",
   "execution_count": 71,
   "metadata": {},
   "outputs": [
    {
     "name": "stdout",
     "output_type": "stream",
     "text": [
      "['Preheat the oven to 180 degrees \\n', 'Combine the egg with the brown sugar and the cane sugar in a mixing bowl \\n', 'Add the the flour, chocolate, vanilla, baking powder, and butter to the mixture \\n', 'Stir to combine the ingredients \\n', 'Let the dough rest in the fridge till tomorrow... nah, no one can wait that long for cookies \\n', 'Devide the dough into golfball sized spheres and place them on baking paper in a cooking tray \\n', 'Cook them in the oven for 10-14 minutes \\n', 'Eat cookies, mmmmm, very tasty right? \\n']\n",
      "['150 grams of butter \\n', '100 grams of brown sugar \\n', '100 grams of cane sugar\\n', '200 grams of flour\\n', '100 grams of dark chocolate\\n', '100 grams of milk chocolate\\n', '100 grams of white chocolate. Yes. You want that much chocolate. \\n', '1 egg\\n', '10 grams of vanilla  \\n', '1 teaspoon of baking powder\\n']\n"
     ]
    }
   ],
   "source": [
    "#Check the files can be opened: \n",
    "ing_file = open(os.path.join('Downloads', 'ingredient.txt'), \"r\")\n",
    "inst_file = open(os.path.join('Downloads', 'instructionss.txt'), \"r\")\n",
    "ing_list = ing_file.readlines()\n",
    "inst_list = inst_file.readlines()\n",
    "\n",
    "print(inst_list)\n",
    "print(ing_list)\n"
   ]
  },
  {
   "cell_type": "code",
   "execution_count": null,
   "metadata": {},
   "outputs": [
    {
     "name": "stdout",
     "output_type": "stream",
     "text": [
      "I am listening now\n",
      "processing...\n",
      "you said: ingredients\n",
      "I will now read ingredients list, say next to start\n",
      "I am listening now\n",
      "processing...\n",
      "you said: instructions instructions instructions\n",
      "I am sorry, I am not programmed to understand this. Can you repeat please?\n",
      "I am listening now\n",
      "processing...\n",
      "you said: instructions\n",
      "I will now read the instructions list, say next to start\n",
      "I am listening now\n",
      "processing...\n"
     ]
    }
   ],
   "source": [
    "# Introduction: let Mary Botty introduce himself\n",
    "engine.say(\"Hi. My name is Mary Botty but you can call me Mary. \"\n",
    "            \"I am your new culinary assistant.\"\n",
    "            \"Right now, I am not very smart, but hopefully, you will make me more helpful,\"\n",
    "            \"as well as more natural to interact with.\")\n",
    "\n",
    "engine.runAndWait()\n",
    "\n",
    "# What can your bot do?\n",
    "engine.say(\"So far, I only know one recipe: The Mary Botty delicious chocolate cookies. \"\n",
    "            \"You can ask me for the list of Ingredients by saying Ingredients. \"\n",
    "            \"You can ask me for the list of instructions by saying Instructions. \"\n",
    "            \"by default, I will start a recipe by giving you the list of ingredients. \"\n",
    "            \"I will be reading line by line, simply tell me next to read the following line. \"\n",
    "            \"Let's start shall we?\")\n",
    "engine.runAndWait()\n",
    "\n",
    "# open the files \n",
    "##################Change this path to your path to the txt files############################\n",
    "ing_file = open(os.path.join('Downloads', 'ingredient.txt'), \"r\")\n",
    "inst_file = open(os.path.join('Downloads', 'instructionss.txt'), \"r\")\n",
    "\n",
    "\n",
    "# create lists of sentences\n",
    "ing_list = ing_file.readlines()\n",
    "inst_list = inst_file.readlines()\n",
    "\n",
    "\n",
    "# Close files\n",
    "ing_file.close()\n",
    "inst_file.close()\n",
    "\n",
    "# Second: Initialize dynamic variables\n",
    "active_list = ing_list # we start by iterating through the ingredient list\n",
    "i = 0 # the counter we use to read through our list\n",
    "textInput = \"nothing\" # we initialise the input for the loop to work\n",
    "\n",
    "\n",
    "\n",
    "\n",
    "# All interactions happen here\n",
    "while textInput != \"stop\":\n",
    "\n",
    "    # We load the speech to text model\n",
    "    r = sr.Recognizer()\n",
    "    # check for background noise and adjust sensitivity accordingly\n",
    "    with mic as source:\n",
    "        audio = r.adjust_for_ambient_noise(source)\n",
    "\n",
    "    # Listen for user input\n",
    "    print(\"I am listening now\")\n",
    "    engine.say(\"I am listening now\")\n",
    "    engine.runAndWait()\n",
    "    with mic as source:\n",
    "        audio = r.listen(source) # save the mic input into the \"audio\" variable\n",
    "    print(\"processing...\")\n",
    "\n",
    "    try:\n",
    "        # speech to text: transform the audio recorded from the mic into text\n",
    "        textInput = r.recognize_google(audio)\n",
    "        print(\"you said: \" + textInput)\n",
    "        #print(type(textInput))\n",
    "    \n",
    "\n",
    "        if textInput == \"ingredients\" or textInput == \"ingredient\":\n",
    "            active_list = ing_list\n",
    "            i = 0\n",
    "            response = \"I will now read ingredients list, say next to start\"\n",
    "\n",
    "        elif textInput == \"instructions\" or textInput == \"instruction\":\n",
    "            active_list = inst_list\n",
    "            i = 0\n",
    "            response = \"I will now read the instructions list, say next to start\"\n",
    "        \n",
    "        elif \"repeat\" in textInput:\n",
    "            response = active_list[i-1]\n",
    "\n",
    "        elif \"previous\" in textInput:\n",
    "            response = active_list[i-2]\n",
    "\n",
    "        elif \"next\" in textInput:\n",
    "            response = active_list[i]\n",
    "            i = i + 1\n",
    "\n",
    "\n",
    "        elif textInput == \"stop\":\n",
    "            response = \"good bye\"\n",
    "\n",
    "        else:\n",
    "            response = \"I am sorry, I am not programmed to understand this. \" \\\n",
    "                       \"Can you repeat please?\"\n",
    "\n",
    "    # API was unreachable or unresponsive:\n",
    "    except sr.RequestError:\n",
    "        response = \"API unavailable\"\n",
    "    # if the speech was unintelligible:\n",
    "    except sr.UnknownValueError:\n",
    "        response = \"Sorry! Something went wrong with your mouth. \" \\\n",
    "                   \"Please, try to be intelligible. \"\n",
    "    # if you arrive at the end of the list:\n",
    "    except IndexError:\n",
    "        response = \"There is nothing left in this list. \" \\\n",
    "                   \"You can ask me for the list of Ingredients by saying Ingredients. \" \\\n",
    "                    \"You can ask me for the list of instructions by saying Instructions. \"\n",
    "\n",
    "    print(response)\n",
    "    engine.say(response)\n",
    "    engine.runAndWait()"
   ]
  }
 ],
 "metadata": {
  "kernelspec": {
   "display_name": "Python 3",
   "language": "python",
   "name": "python3"
  },
  "language_info": {
   "codemirror_mode": {
    "name": "ipython",
    "version": 3
   },
   "file_extension": ".py",
   "mimetype": "text/x-python",
   "name": "python",
   "nbconvert_exporter": "python",
   "pygments_lexer": "ipython3",
   "version": "3.8.5"
  }
 },
 "nbformat": 4,
 "nbformat_minor": 4
}
